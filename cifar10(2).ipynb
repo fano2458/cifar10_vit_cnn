{
  "cells": [
    {
      "cell_type": "code",
      "execution_count": 1,
      "id": "9cea2ace",
      "metadata": {
        "_cell_guid": "b1076dfc-b9ad-4769-8c92-a6c4dae69d19",
        "_uuid": "8f2839f25d086af736a60e9eeb907d3b93b6e0e5",
        "execution": {
          "iopub.execute_input": "2022-12-22T15:23:00.755385Z",
          "iopub.status.busy": "2022-12-22T15:23:00.754557Z",
          "iopub.status.idle": "2022-12-22T15:23:00.766098Z",
          "shell.execute_reply": "2022-12-22T15:23:00.765235Z"
        },
        "papermill": {
          "duration": 0.018988,
          "end_time": "2022-12-22T15:23:00.768186",
          "exception": false,
          "start_time": "2022-12-22T15:23:00.749198",
          "status": "completed"
        },
        "tags": [],
        "id": "9cea2ace"
      },
      "outputs": [],
      "source": [
        "import numpy as np \n",
        "import pandas as pd "
      ]
    },
    {
      "cell_type": "code",
      "execution_count": 2,
      "id": "524b7538",
      "metadata": {
        "execution": {
          "iopub.execute_input": "2022-12-22T15:23:00.778593Z",
          "iopub.status.busy": "2022-12-22T15:23:00.776960Z",
          "iopub.status.idle": "2022-12-22T15:23:13.877612Z",
          "shell.execute_reply": "2022-12-22T15:23:13.876381Z"
        },
        "papermill": {
          "duration": 13.108751,
          "end_time": "2022-12-22T15:23:13.880782",
          "exception": false,
          "start_time": "2022-12-22T15:23:00.772031",
          "status": "completed"
        },
        "tags": [],
        "colab": {
          "base_uri": "https://localhost:8080/"
        },
        "id": "524b7538",
        "outputId": "a1a2df06-e9e7-419d-df3c-518696ffb99a"
      },
      "outputs": [
        {
          "output_type": "stream",
          "name": "stdout",
          "text": [
            "Looking in indexes: https://pypi.org/simple, https://us-python.pkg.dev/colab-wheels/public/simple/\n",
            "Collecting vit_keras\n",
            "  Downloading vit_keras-0.1.2-py3-none-any.whl (24 kB)\n",
            "Requirement already satisfied: scipy in /usr/local/lib/python3.10/dist-packages (from vit_keras) (1.10.1)\n",
            "Collecting validators (from vit_keras)\n",
            "  Downloading validators-0.20.0.tar.gz (30 kB)\n",
            "  Preparing metadata (setup.py) ... \u001b[?25l\u001b[?25hdone\n",
            "Requirement already satisfied: numpy<1.27.0,>=1.19.5 in /usr/local/lib/python3.10/dist-packages (from scipy->vit_keras) (1.22.4)\n",
            "Requirement already satisfied: decorator>=3.4.0 in /usr/local/lib/python3.10/dist-packages (from validators->vit_keras) (4.4.2)\n",
            "Building wheels for collected packages: validators\n",
            "  Building wheel for validators (setup.py) ... \u001b[?25l\u001b[?25hdone\n",
            "  Created wheel for validators: filename=validators-0.20.0-py3-none-any.whl size=19579 sha256=a9ec5f73779817bd7d11705cb3cf2cd26f16a7222eeaf0b9917aba6c9e6b97d8\n",
            "  Stored in directory: /root/.cache/pip/wheels/f2/ed/dd/d3a556ad245ef9dc570c6bcd2f22886d17b0b408dd3bbb9ac3\n",
            "Successfully built validators\n",
            "Installing collected packages: validators, vit_keras\n",
            "Successfully installed validators-0.20.0 vit_keras-0.1.2\n"
          ]
        }
      ],
      "source": [
        "!pip install vit_keras"
      ]
    },
    {
      "cell_type": "code",
      "source": [
        "!pip install tensorflow_addons"
      ],
      "metadata": {
        "colab": {
          "base_uri": "https://localhost:8080/"
        },
        "id": "36QFZdhHZrvq",
        "outputId": "e918e606-0c55-4aab-dbd6-0a90f3d3f301"
      },
      "id": "36QFZdhHZrvq",
      "execution_count": 3,
      "outputs": [
        {
          "output_type": "stream",
          "name": "stdout",
          "text": [
            "Looking in indexes: https://pypi.org/simple, https://us-python.pkg.dev/colab-wheels/public/simple/\n",
            "Collecting tensorflow_addons\n",
            "  Downloading tensorflow_addons-0.20.0-cp310-cp310-manylinux_2_17_x86_64.manylinux2014_x86_64.whl (591 kB)\n",
            "\u001b[2K     \u001b[90m━━━━━━━━━━━━━━━━━━━━━━━━━━━━━━━━━━━━━━\u001b[0m \u001b[32m591.0/591.0 kB\u001b[0m \u001b[31m12.3 MB/s\u001b[0m eta \u001b[36m0:00:00\u001b[0m\n",
            "\u001b[?25hRequirement already satisfied: packaging in /usr/local/lib/python3.10/dist-packages (from tensorflow_addons) (23.1)\n",
            "Collecting typeguard<3.0.0,>=2.7 (from tensorflow_addons)\n",
            "  Downloading typeguard-2.13.3-py3-none-any.whl (17 kB)\n",
            "Installing collected packages: typeguard, tensorflow_addons\n",
            "Successfully installed tensorflow_addons-0.20.0 typeguard-2.13.3\n"
          ]
        }
      ]
    },
    {
      "cell_type": "code",
      "execution_count": 4,
      "id": "67576d42",
      "metadata": {
        "execution": {
          "iopub.execute_input": "2022-12-22T15:23:13.896758Z",
          "iopub.status.busy": "2022-12-22T15:23:13.896207Z",
          "iopub.status.idle": "2022-12-22T15:23:20.422099Z",
          "shell.execute_reply": "2022-12-22T15:23:20.421113Z"
        },
        "papermill": {
          "duration": 6.536442,
          "end_time": "2022-12-22T15:23:20.424456",
          "exception": false,
          "start_time": "2022-12-22T15:23:13.888014",
          "status": "completed"
        },
        "tags": [],
        "colab": {
          "base_uri": "https://localhost:8080/"
        },
        "id": "67576d42",
        "outputId": "0a0dcad6-27a5-43bb-f6e1-a21ff4be0462"
      },
      "outputs": [
        {
          "output_type": "stream",
          "name": "stderr",
          "text": [
            "/usr/local/lib/python3.10/dist-packages/tensorflow_addons/utils/tfa_eol_msg.py:23: UserWarning: \n",
            "\n",
            "TensorFlow Addons (TFA) has ended development and introduction of new features.\n",
            "TFA has entered a minimal maintenance and release mode until a planned end of life in May 2024.\n",
            "Please modify downstream libraries to take dependencies from other repositories in our TensorFlow community (e.g. Keras, Keras-CV, and Keras-NLP). \n",
            "\n",
            "For more information see: https://github.com/tensorflow/addons/issues/2807 \n",
            "\n",
            "  warnings.warn(\n"
          ]
        }
      ],
      "source": [
        "import tensorflow as tf\n",
        "from tensorflow.keras.models import Sequential, Model\n",
        "from tensorflow.keras.layers import Dense, GlobalAveragePooling2D, BatchNormalization, Flatten, Dropout, Activation, Input\n",
        "from tensorflow.keras.utils import to_categorical\n",
        "from tensorflow.keras.preprocessing.image import ImageDataGenerator\n",
        "from tensorflow.keras import optimizers\n",
        "from tensorflow.keras.callbacks import ReduceLROnPlateau, EarlyStopping, ModelCheckpoint\n",
        "from tensorflow.keras.datasets import cifar10\n",
        "from vit_keras import vit, utils\n",
        "from tensorflow import keras\n",
        "\n",
        "from sklearn.model_selection import train_test_split\n",
        "from sklearn.metrics import accuracy_score\n",
        "\n",
        "import matplotlib.pyplot as plt\n",
        "import gc"
      ]
    },
    {
      "cell_type": "code",
      "execution_count": 5,
      "id": "6ae7fdc5",
      "metadata": {
        "execution": {
          "iopub.execute_input": "2022-12-22T15:23:20.436009Z",
          "iopub.status.busy": "2022-12-22T15:23:20.434711Z",
          "iopub.status.idle": "2022-12-22T15:23:20.439939Z",
          "shell.execute_reply": "2022-12-22T15:23:20.439006Z"
        },
        "papermill": {
          "duration": 0.015138,
          "end_time": "2022-12-22T15:23:20.444366",
          "exception": false,
          "start_time": "2022-12-22T15:23:20.429228",
          "status": "completed"
        },
        "tags": [],
        "id": "6ae7fdc5"
      },
      "outputs": [],
      "source": [
        "seed = 2022\n",
        "np.random.seed(seed)\n",
        "tf.random.set_seed(seed)"
      ]
    },
    {
      "cell_type": "markdown",
      "id": "ab697827",
      "metadata": {
        "papermill": {
          "duration": 0.005399,
          "end_time": "2022-12-22T15:23:20.462240",
          "exception": false,
          "start_time": "2022-12-22T15:23:20.456841",
          "status": "completed"
        },
        "tags": [],
        "id": "ab697827"
      },
      "source": [
        "**Load Cifar10 data**"
      ]
    },
    {
      "cell_type": "code",
      "execution_count": 6,
      "id": "e1d38798",
      "metadata": {
        "execution": {
          "iopub.execute_input": "2022-12-22T15:23:20.472568Z",
          "iopub.status.busy": "2022-12-22T15:23:20.472204Z",
          "iopub.status.idle": "2022-12-22T15:23:28.017050Z",
          "shell.execute_reply": "2022-12-22T15:23:28.015973Z"
        },
        "papermill": {
          "duration": 7.552913,
          "end_time": "2022-12-22T15:23:28.019643",
          "exception": false,
          "start_time": "2022-12-22T15:23:20.466730",
          "status": "completed"
        },
        "tags": [],
        "id": "e1d38798",
        "colab": {
          "base_uri": "https://localhost:8080/"
        },
        "outputId": "e8ce6125-bebf-4fd8-f440-ba20e4079fa2"
      },
      "outputs": [
        {
          "output_type": "stream",
          "name": "stdout",
          "text": [
            "Downloading data from https://www.cs.toronto.edu/~kriz/cifar-10-python.tar.gz\n",
            "170498071/170498071 [==============================] - 2s 0us/step\n"
          ]
        }
      ],
      "source": [
        "(train_data, train_label), (test_data, test_label) = cifar10.load_data()\n",
        "train_label = to_categorical(train_label)\n",
        "test_label = to_categorical(test_label)\n",
        "train_data = (train_data/255.).astype(\"float32\")\n",
        "test_data = (test_data/255.).astype(\"float32\")"
      ]
    },
    {
      "cell_type": "code",
      "execution_count": 7,
      "id": "5f316bec",
      "metadata": {
        "execution": {
          "iopub.execute_input": "2022-12-22T15:23:28.038257Z",
          "iopub.status.busy": "2022-12-22T15:23:28.037922Z",
          "iopub.status.idle": "2022-12-22T15:23:28.228002Z",
          "shell.execute_reply": "2022-12-22T15:23:28.226944Z"
        },
        "papermill": {
          "duration": 0.20192,
          "end_time": "2022-12-22T15:23:28.230500",
          "exception": false,
          "start_time": "2022-12-22T15:23:28.028580",
          "status": "completed"
        },
        "tags": [],
        "id": "5f316bec"
      },
      "outputs": [],
      "source": [
        "X_train, X_valid, y_train, y_valid = train_test_split(train_data, train_label, random_state=seed, shuffle=True)"
      ]
    },
    {
      "cell_type": "markdown",
      "id": "62a758b4",
      "metadata": {
        "papermill": {
          "duration": 0.008143,
          "end_time": "2022-12-22T15:23:28.247017",
          "exception": false,
          "start_time": "2022-12-22T15:23:28.238874",
          "status": "completed"
        },
        "tags": [],
        "id": "62a758b4"
      },
      "source": [
        "**Makes data augmentation generator**"
      ]
    },
    {
      "cell_type": "code",
      "execution_count": 8,
      "id": "37469308",
      "metadata": {
        "execution": {
          "iopub.execute_input": "2022-12-22T15:23:28.265092Z",
          "iopub.status.busy": "2022-12-22T15:23:28.264205Z",
          "iopub.status.idle": "2022-12-22T15:23:28.270001Z",
          "shell.execute_reply": "2022-12-22T15:23:28.269173Z"
        },
        "papermill": {
          "duration": 0.017018,
          "end_time": "2022-12-22T15:23:28.272124",
          "exception": false,
          "start_time": "2022-12-22T15:23:28.255106",
          "status": "completed"
        },
        "tags": [],
        "id": "37469308"
      },
      "outputs": [],
      "source": [
        "batch_size = 32\n",
        "datagen = ImageDataGenerator(rotation_range=15, width_shift_range=0.2, zoom_range=0.2, horizontal_flip=True)\n",
        "train_generator = datagen.flow(X_train, y_train, batch_size=batch_size)"
      ]
    },
    {
      "cell_type": "code",
      "source": [
        "checkpoint_vit = ModelCheckpoint('/content/drive/MyDrive/Research/weights/vit.h5', \n",
        "    verbose=1, \n",
        "    monitor='val_loss',\n",
        "    save_best_only=True, \n",
        "    mode='auto'\n",
        ")  "
      ],
      "metadata": {
        "id": "Iy4A5kAvJKuz"
      },
      "id": "Iy4A5kAvJKuz",
      "execution_count": 9,
      "outputs": []
    },
    {
      "cell_type": "markdown",
      "id": "9844021f",
      "metadata": {
        "papermill": {
          "duration": 0.007968,
          "end_time": "2022-12-22T15:23:28.288996",
          "exception": false,
          "start_time": "2022-12-22T15:23:28.281028",
          "status": "completed"
        },
        "tags": [],
        "id": "9844021f"
      },
      "source": [
        "**Defines ViT model**"
      ]
    },
    {
      "cell_type": "code",
      "execution_count": 10,
      "id": "caebf7d7",
      "metadata": {
        "execution": {
          "iopub.execute_input": "2022-12-22T15:23:28.307346Z",
          "iopub.status.busy": "2022-12-22T15:23:28.306419Z",
          "iopub.status.idle": "2022-12-22T15:23:28.314340Z",
          "shell.execute_reply": "2022-12-22T15:23:28.313432Z"
        },
        "papermill": {
          "duration": 0.019123,
          "end_time": "2022-12-22T15:23:28.316368",
          "exception": false,
          "start_time": "2022-12-22T15:23:28.297245",
          "status": "completed"
        },
        "tags": [],
        "id": "caebf7d7"
      },
      "outputs": [],
      "source": [
        "input_shape = (32, 32, 3) #Cifar10 image size\n",
        "image_size = 224 #size after resizing image\n",
        "num_classes = 10\n",
        "\n",
        "def build_model():\n",
        "    inputs = Input(shape=input_shape)\n",
        "    x = tf.keras.layers.Lambda(lambda image: tf.image.resize(image, (image_size, image_size)))(inputs) #Resize image to  size 224x224\n",
        "    base_model = vit.vit_b16(image_size=image_size, activation=\"sigmoid\", pretrained=True,\n",
        "                            include_top=False, pretrained_top=False)\n",
        "    \n",
        "    base_model.trainable = False #Set false for transfer learning\n",
        "    x = base_model(x)\n",
        "    x = Flatten()(x)\n",
        "    x = BatchNormalization()(x)\n",
        "    x = Dense(32, activation=tf.keras.activations.gelu)(x)\n",
        "    x = BatchNormalization()(x)\n",
        "    outputs = Dense(num_classes, activation=\"softmax\")(x)\n",
        "\n",
        "    model_final = Model(inputs=inputs, outputs=outputs)\n",
        "    return model_final"
      ]
    },
    {
      "cell_type": "markdown",
      "id": "76c79547",
      "metadata": {
        "papermill": {
          "duration": 0.00786,
          "end_time": "2022-12-22T15:23:28.332367",
          "exception": false,
          "start_time": "2022-12-22T15:23:28.324507",
          "status": "completed"
        },
        "tags": [],
        "id": "76c79547"
      },
      "source": [
        "**Step1: Train only top layer (Transfer learning step)**"
      ]
    },
    {
      "cell_type": "code",
      "execution_count": 11,
      "id": "51903aff",
      "metadata": {
        "execution": {
          "iopub.execute_input": "2022-12-22T15:23:28.350539Z",
          "iopub.status.busy": "2022-12-22T15:23:28.349589Z",
          "iopub.status.idle": "2022-12-22T15:32:11.940724Z",
          "shell.execute_reply": "2022-12-22T15:32:11.939579Z"
        },
        "papermill": {
          "duration": 523.602871,
          "end_time": "2022-12-22T15:32:11.943251",
          "exception": false,
          "start_time": "2022-12-22T15:23:28.340380",
          "status": "completed"
        },
        "tags": [],
        "colab": {
          "base_uri": "https://localhost:8080/"
        },
        "id": "51903aff",
        "outputId": "0fb16467-b195-4ec2-e012-f7d98e5243cf"
      },
      "outputs": [
        {
          "output_type": "stream",
          "name": "stdout",
          "text": [
            "Downloading data from https://github.com/faustomorales/vit-keras/releases/download/dl/ViT-B_16_imagenet21k+imagenet2012.npz\n",
            "347502902/347502902 [==============================] - 3s 0us/step\n"
          ]
        },
        {
          "output_type": "stream",
          "name": "stderr",
          "text": [
            "/usr/local/lib/python3.10/dist-packages/vit_keras/utils.py:81: UserWarning: Resizing position embeddings from 24, 24 to 14, 14\n",
            "  warnings.warn(\n"
          ]
        },
        {
          "output_type": "stream",
          "name": "stdout",
          "text": [
            "Model: \"model\"\n",
            "_________________________________________________________________\n",
            " Layer (type)                Output Shape              Param #   \n",
            "=================================================================\n",
            " input_1 (InputLayer)        [(None, 32, 32, 3)]       0         \n",
            "                                                                 \n",
            " lambda (Lambda)             (None, 224, 224, 3)       0         \n",
            "                                                                 \n",
            " vit-b16 (Functional)        (None, 768)               85798656  \n",
            "                                                                 \n",
            " flatten (Flatten)           (None, 768)               0         \n",
            "                                                                 \n",
            " batch_normalization (BatchN  (None, 768)              3072      \n",
            " ormalization)                                                   \n",
            "                                                                 \n",
            " dense (Dense)               (None, 32)                24608     \n",
            "                                                                 \n",
            " batch_normalization_1 (Batc  (None, 32)               128       \n",
            " hNormalization)                                                 \n",
            "                                                                 \n",
            " dense_1 (Dense)             (None, 10)                330       \n",
            "                                                                 \n",
            "=================================================================\n",
            "Total params: 85,826,794\n",
            "Trainable params: 26,538\n",
            "Non-trainable params: 85,800,256\n",
            "_________________________________________________________________\n",
            "\n",
            "\n"
          ]
        },
        {
          "output_type": "execute_result",
          "data": {
            "text/plain": [
              "22862"
            ]
          },
          "metadata": {},
          "execution_count": 11
        }
      ],
      "source": [
        "model = build_model()\n",
        "model.compile(optimizer=optimizers.SGD(learning_rate=0.01, momentum=0.9), loss=\"categorical_crossentropy\", metrics=[\"accuracy\"])\n",
        "model.summary()\n",
        "print(\"\\n\")\n",
        "# model.fit(train_generator,\n",
        "#           steps_per_epoch=200,\n",
        "#           epochs=2,\n",
        "#           validation_data=(X_valid, y_valid),\n",
        "#          )\n",
        "gc.collect()"
      ]
    },
    {
      "cell_type": "markdown",
      "id": "9c3be588",
      "metadata": {
        "papermill": {
          "duration": 0.056702,
          "end_time": "2022-12-22T15:32:12.058431",
          "exception": false,
          "start_time": "2022-12-22T15:32:12.001729",
          "status": "completed"
        },
        "tags": [],
        "id": "9c3be588"
      },
      "source": [
        "**Step2: Train entire layers again (Fine tuning step)**"
      ]
    },
    {
      "cell_type": "code",
      "execution_count": 12,
      "id": "d94f8f54",
      "metadata": {
        "execution": {
          "iopub.execute_input": "2022-12-22T15:32:12.174757Z",
          "iopub.status.busy": "2022-12-22T15:32:12.174036Z",
          "iopub.status.idle": "2022-12-22T16:32:40.875202Z",
          "shell.execute_reply": "2022-12-22T16:32:40.874192Z"
        },
        "papermill": {
          "duration": 3628.920404,
          "end_time": "2022-12-22T16:32:41.036275",
          "exception": false,
          "start_time": "2022-12-22T15:32:12.115871",
          "status": "completed"
        },
        "tags": [],
        "colab": {
          "base_uri": "https://localhost:8080/"
        },
        "id": "d94f8f54",
        "outputId": "f0bb60bc-2579-474b-b589-97225da36802"
      },
      "outputs": [
        {
          "output_type": "stream",
          "name": "stdout",
          "text": [
            "Model: \"model\"\n",
            "_________________________________________________________________\n",
            " Layer (type)                Output Shape              Param #   \n",
            "=================================================================\n",
            " input_1 (InputLayer)        [(None, 32, 32, 3)]       0         \n",
            "                                                                 \n",
            " lambda (Lambda)             (None, 224, 224, 3)       0         \n",
            "                                                                 \n",
            " vit-b16 (Functional)        (None, 768)               85798656  \n",
            "                                                                 \n",
            " flatten (Flatten)           (None, 768)               0         \n",
            "                                                                 \n",
            " batch_normalization (BatchN  (None, 768)              3072      \n",
            " ormalization)                                                   \n",
            "                                                                 \n",
            " dense (Dense)               (None, 32)                24608     \n",
            "                                                                 \n",
            " batch_normalization_1 (Batc  (None, 32)               128       \n",
            " hNormalization)                                                 \n",
            "                                                                 \n",
            " dense_1 (Dense)             (None, 10)                330       \n",
            "                                                                 \n",
            "=================================================================\n",
            "Total params: 85,826,794\n",
            "Trainable params: 85,825,194\n",
            "Non-trainable params: 1,600\n",
            "_________________________________________________________________\n",
            "\n",
            "\n",
            "Epoch 1/25\n",
            "200/200 [==============================] - ETA: 0s - loss: 0.9153 - accuracy: 0.7400\n",
            "Epoch 1: val_loss improved from inf to 0.22471, saving model to /content/drive/MyDrive/Research/weights/vit.h5\n",
            "200/200 [==============================] - 505s 2s/step - loss: 0.9153 - accuracy: 0.7400 - val_loss: 0.2247 - val_accuracy: 0.9525 - lr: 0.0010\n",
            "Epoch 2/25\n",
            "200/200 [==============================] - ETA: 0s - loss: 0.3232 - accuracy: 0.9194\n",
            "Epoch 2: val_loss improved from 0.22471 to 0.14346, saving model to /content/drive/MyDrive/Research/weights/vit.h5\n",
            "200/200 [==============================] - 472s 2s/step - loss: 0.3232 - accuracy: 0.9194 - val_loss: 0.1435 - val_accuracy: 0.9670 - lr: 0.0010\n",
            "Epoch 3/25\n",
            "200/200 [==============================] - ETA: 0s - loss: 0.2399 - accuracy: 0.9370\n",
            "Epoch 3: val_loss improved from 0.14346 to 0.11262, saving model to /content/drive/MyDrive/Research/weights/vit.h5\n",
            "200/200 [==============================] - 473s 2s/step - loss: 0.2399 - accuracy: 0.9370 - val_loss: 0.1126 - val_accuracy: 0.9714 - lr: 0.0010\n",
            "Epoch 4/25\n",
            "200/200 [==============================] - ETA: 0s - loss: 0.1948 - accuracy: 0.9481\n",
            "Epoch 4: val_loss improved from 0.11262 to 0.09252, saving model to /content/drive/MyDrive/Research/weights/vit.h5\n",
            "200/200 [==============================] - 476s 2s/step - loss: 0.1948 - accuracy: 0.9481 - val_loss: 0.0925 - val_accuracy: 0.9754 - lr: 0.0010\n",
            "Epoch 5/25\n",
            "200/200 [==============================] - ETA: 0s - loss: 0.1722 - accuracy: 0.9534\n",
            "Epoch 5: ReduceLROnPlateau reducing learning rate to 0.0007000000332482159.\n",
            "\n",
            "Epoch 5: val_loss did not improve from 0.09252\n",
            "200/200 [==============================] - 433s 2s/step - loss: 0.1722 - accuracy: 0.9534 - val_loss: 0.0992 - val_accuracy: 0.9731 - lr: 0.0010\n",
            "Epoch 6/25\n",
            "200/200 [==============================] - ETA: 0s - loss: 0.1668 - accuracy: 0.9556\n",
            "Epoch 6: val_loss improved from 0.09252 to 0.07620, saving model to /content/drive/MyDrive/Research/weights/vit.h5\n",
            "200/200 [==============================] - 477s 2s/step - loss: 0.1668 - accuracy: 0.9556 - val_loss: 0.0762 - val_accuracy: 0.9795 - lr: 7.0000e-04\n",
            "Epoch 7/25\n",
            "200/200 [==============================] - ETA: 0s - loss: 0.1333 - accuracy: 0.9633\n",
            "Epoch 7: ReduceLROnPlateau reducing learning rate to 0.0004900000232737511.\n",
            "\n",
            "Epoch 7: val_loss did not improve from 0.07620\n",
            "200/200 [==============================] - 433s 2s/step - loss: 0.1333 - accuracy: 0.9633 - val_loss: 0.0795 - val_accuracy: 0.9779 - lr: 7.0000e-04\n",
            "Epoch 8/25\n",
            "200/200 [==============================] - ETA: 0s - loss: 0.1313 - accuracy: 0.9650\n",
            "Epoch 8: val_loss improved from 0.07620 to 0.07298, saving model to /content/drive/MyDrive/Research/weights/vit.h5\n",
            "200/200 [==============================] - 474s 2s/step - loss: 0.1313 - accuracy: 0.9650 - val_loss: 0.0730 - val_accuracy: 0.9792 - lr: 4.9000e-04\n",
            "Epoch 9/25\n",
            "200/200 [==============================] - ETA: 0s - loss: 0.1302 - accuracy: 0.9617\n",
            "Epoch 9: val_loss improved from 0.07298 to 0.07219, saving model to /content/drive/MyDrive/Research/weights/vit.h5\n",
            "200/200 [==============================] - 475s 2s/step - loss: 0.1302 - accuracy: 0.9617 - val_loss: 0.0722 - val_accuracy: 0.9792 - lr: 4.9000e-04\n",
            "Epoch 10/25\n",
            "200/200 [==============================] - ETA: 0s - loss: 0.1330 - accuracy: 0.9654\n",
            "Epoch 10: val_loss improved from 0.07219 to 0.06299, saving model to /content/drive/MyDrive/Research/weights/vit.h5\n",
            "200/200 [==============================] - 444s 2s/step - loss: 0.1330 - accuracy: 0.9654 - val_loss: 0.0630 - val_accuracy: 0.9827 - lr: 4.9000e-04\n",
            "Epoch 11/25\n",
            "200/200 [==============================] - ETA: 0s - loss: 0.1253 - accuracy: 0.9642\n",
            "Epoch 11: ReduceLROnPlateau reducing learning rate to 0.00034300000406801696.\n",
            "\n",
            "Epoch 11: val_loss did not improve from 0.06299\n",
            "200/200 [==============================] - 463s 2s/step - loss: 0.1253 - accuracy: 0.9642 - val_loss: 0.0630 - val_accuracy: 0.9814 - lr: 4.9000e-04\n",
            "Epoch 12/25\n",
            "200/200 [==============================] - ETA: 0s - loss: 0.1136 - accuracy: 0.9698\n",
            "Epoch 12: val_loss improved from 0.06299 to 0.06252, saving model to /content/drive/MyDrive/Research/weights/vit.h5\n",
            "200/200 [==============================] - 446s 2s/step - loss: 0.1136 - accuracy: 0.9698 - val_loss: 0.0625 - val_accuracy: 0.9828 - lr: 3.4300e-04\n",
            "Epoch 13/25\n",
            "200/200 [==============================] - ETA: 0s - loss: 0.1106 - accuracy: 0.9691\n",
            "Epoch 13: val_loss improved from 0.06252 to 0.05931, saving model to /content/drive/MyDrive/Research/weights/vit.h5\n",
            "200/200 [==============================] - 476s 2s/step - loss: 0.1106 - accuracy: 0.9691 - val_loss: 0.0593 - val_accuracy: 0.9834 - lr: 3.4300e-04\n",
            "Epoch 14/25\n",
            "200/200 [==============================] - ETA: 0s - loss: 0.1133 - accuracy: 0.9675\n",
            "Epoch 14: ReduceLROnPlateau reducing learning rate to 0.00024009999469853935.\n",
            "\n",
            "Epoch 14: val_loss did not improve from 0.05931\n",
            "200/200 [==============================] - 464s 2s/step - loss: 0.1133 - accuracy: 0.9675 - val_loss: 0.0614 - val_accuracy: 0.9826 - lr: 3.4300e-04\n",
            "Epoch 15/25\n",
            "200/200 [==============================] - ETA: 0s - loss: 0.1007 - accuracy: 0.9691\n",
            "Epoch 15: val_loss improved from 0.05931 to 0.05680, saving model to /content/drive/MyDrive/Research/weights/vit.h5\n",
            "200/200 [==============================] - 447s 2s/step - loss: 0.1007 - accuracy: 0.9691 - val_loss: 0.0568 - val_accuracy: 0.9832 - lr: 2.4010e-04\n",
            "Epoch 16/25\n",
            "200/200 [==============================] - ETA: 0s - loss: 0.1041 - accuracy: 0.9716\n",
            "Epoch 16: ReduceLROnPlateau reducing learning rate to 0.00016806999628897755.\n",
            "\n",
            "Epoch 16: val_loss did not improve from 0.05680\n",
            "200/200 [==============================] - 467s 2s/step - loss: 0.1041 - accuracy: 0.9716 - val_loss: 0.0586 - val_accuracy: 0.9829 - lr: 2.4010e-04\n",
            "Epoch 17/25\n",
            "200/200 [==============================] - ETA: 0s - loss: 0.1060 - accuracy: 0.9684\n",
            "Epoch 17: ReduceLROnPlateau reducing learning rate to 0.00011764899536501615.\n",
            "\n",
            "Epoch 17: val_loss did not improve from 0.05680\n",
            "200/200 [==============================] - 466s 2s/step - loss: 0.1060 - accuracy: 0.9684 - val_loss: 0.0590 - val_accuracy: 0.9828 - lr: 1.6807e-04\n",
            "Epoch 18/25\n",
            "200/200 [==============================] - ETA: 0s - loss: 0.0960 - accuracy: 0.9720\n",
            "Epoch 18: ReduceLROnPlateau reducing learning rate to 8.235429777414538e-05.\n",
            "\n",
            "Epoch 18: val_loss did not improve from 0.05680\n",
            "200/200 [==============================] - 463s 2s/step - loss: 0.0960 - accuracy: 0.9720 - val_loss: 0.0590 - val_accuracy: 0.9828 - lr: 1.1765e-04\n",
            "Epoch 19/25\n",
            "200/200 [==============================] - ETA: 0s - loss: 0.0978 - accuracy: 0.9731\n",
            "Epoch 19: ReduceLROnPlateau reducing learning rate to 5.76480058953166e-05.\n",
            "\n",
            "Epoch 19: val_loss did not improve from 0.05680\n",
            "200/200 [==============================] - 463s 2s/step - loss: 0.0978 - accuracy: 0.9731 - val_loss: 0.0598 - val_accuracy: 0.9826 - lr: 8.2354e-05\n",
            "Epoch 20/25\n",
            "200/200 [==============================] - ETA: 0s - loss: 0.0992 - accuracy: 0.9736\n",
            "Epoch 20: ReduceLROnPlateau reducing learning rate to 4.0353603617404586e-05.\n",
            "\n",
            "Epoch 20: val_loss did not improve from 0.05680\n",
            "200/200 [==============================] - 463s 2s/step - loss: 0.0992 - accuracy: 0.9736 - val_loss: 0.0577 - val_accuracy: 0.9832 - lr: 5.7648e-05\n",
            "Epoch 21/25\n",
            "200/200 [==============================] - ETA: 0s - loss: 0.0900 - accuracy: 0.9731\n",
            "Epoch 21: ReduceLROnPlateau reducing learning rate to 2.8247522277524694e-05.\n",
            "\n",
            "Epoch 21: val_loss did not improve from 0.05680\n",
            "200/200 [==============================] - 466s 2s/step - loss: 0.0900 - accuracy: 0.9731 - val_loss: 0.0570 - val_accuracy: 0.9837 - lr: 4.0354e-05\n",
            "Epoch 22/25\n",
            "200/200 [==============================] - ETA: 0s - loss: 0.0998 - accuracy: 0.9711\n",
            "Epoch 22: ReduceLROnPlateau reducing learning rate to 1.977326610358432e-05.\n",
            "\n",
            "Epoch 22: val_loss did not improve from 0.05680\n",
            "200/200 [==============================] - 463s 2s/step - loss: 0.0998 - accuracy: 0.9711 - val_loss: 0.0576 - val_accuracy: 0.9834 - lr: 2.8248e-05\n",
            "Epoch 23/25\n",
            "200/200 [==============================] - ETA: 0s - loss: 0.0950 - accuracy: 0.9750\n",
            "Epoch 23: ReduceLROnPlateau reducing learning rate to 1.3841286272509023e-05.\n",
            "\n",
            "Epoch 23: val_loss did not improve from 0.05680\n",
            "200/200 [==============================] - 432s 2s/step - loss: 0.0950 - accuracy: 0.9750 - val_loss: 0.0577 - val_accuracy: 0.9834 - lr: 1.9773e-05\n",
            "Epoch 24/25\n",
            "200/200 [==============================] - ETA: 0s - loss: 0.0919 - accuracy: 0.9769\n",
            "Epoch 24: ReduceLROnPlateau reducing learning rate to 9.688900263427058e-06.\n",
            "\n",
            "Epoch 24: val_loss did not improve from 0.05680\n",
            "200/200 [==============================] - 466s 2s/step - loss: 0.0919 - accuracy: 0.9769 - val_loss: 0.0579 - val_accuracy: 0.9833 - lr: 1.3841e-05\n",
            "Epoch 25/25\n",
            "200/200 [==============================] - ETA: 0s - loss: 0.0996 - accuracy: 0.9712\n",
            "Epoch 25: ReduceLROnPlateau reducing learning rate to 6.782229866075795e-06.\n",
            "\n",
            "Epoch 25: val_loss did not improve from 0.05680\n",
            "200/200 [==============================] - 466s 2s/step - loss: 0.0996 - accuracy: 0.9712 - val_loss: 0.0585 - val_accuracy: 0.9829 - lr: 9.6889e-06\n",
            "313/313 [==============================] - 138s 429ms/step\n",
            "\n",
            "Test Accuracy:  0.9819\n"
          ]
        }
      ],
      "source": [
        "plateau = ReduceLROnPlateau(monitor=\"val_loss\", factor=0.7, patience=1, verbose=1)\n",
        "\n",
        "#Switch ViT layer to trainable for fine tuning\n",
        "for layer in model.layers:\n",
        "    layer.trainable = True\n",
        "    \n",
        "#Requires compile again to activate trainable=True\n",
        "model.compile(optimizer=optimizers.SGD(learning_rate=0.001, momentum=0.9), loss=\"categorical_crossentropy\", metrics=[\"accuracy\"])\n",
        "model.summary()\n",
        "print(\"\\n\")\n",
        "history = model.fit(train_generator,\n",
        "                    steps_per_epoch=200, \n",
        "                    epochs=25,\n",
        "                    validation_data=(X_valid, y_valid),\n",
        "                    callbacks=[plateau, checkpoint_vit]\n",
        "                   )\n",
        "print(\"\\nTest Accuracy: \", accuracy_score(np.argmax(test_label, axis=1), np.argmax(model.predict(test_data), axis=1)))"
      ]
    },
    {
      "cell_type": "markdown",
      "id": "ca277992",
      "metadata": {
        "papermill": {
          "duration": 0.164576,
          "end_time": "2022-12-22T16:32:41.362228",
          "exception": false,
          "start_time": "2022-12-22T16:32:41.197652",
          "status": "completed"
        },
        "tags": [],
        "id": "ca277992"
      },
      "source": [
        "**Plot learning history**"
      ]
    },
    {
      "cell_type": "code",
      "execution_count": 13,
      "id": "090aad66",
      "metadata": {
        "execution": {
          "iopub.execute_input": "2022-12-22T16:32:41.718969Z",
          "iopub.status.busy": "2022-12-22T16:32:41.718598Z",
          "iopub.status.idle": "2022-12-22T16:32:42.075885Z",
          "shell.execute_reply": "2022-12-22T16:32:42.074902Z"
        },
        "papermill": {
          "duration": 0.524146,
          "end_time": "2022-12-22T16:32:42.078169",
          "exception": false,
          "start_time": "2022-12-22T16:32:41.554023",
          "status": "completed"
        },
        "tags": [],
        "id": "090aad66",
        "colab": {
          "base_uri": "https://localhost:8080/",
          "height": 927
        },
        "outputId": "234296e2-6f60-4435-cfaf-edbf722b0451"
      },
      "outputs": [
        {
          "output_type": "display_data",
          "data": {
            "text/plain": [
              "<Figure size 640x480 with 1 Axes>"
            ],
            "image/png": "[encoded data removed]"
          },
          "metadata": {}
        },
        {
          "output_type": "display_data",
          "data": {
            "text/plain": [
              "<Figure size 640x480 with 1 Axes>"
            ],
            "image/png": "[encoded data removed]"
          },
          "metadata": {}
        }
      ],
      "source": [
        "# summarize history for accuracy\n",
        "plt.plot(history.history['accuracy'])\n",
        "plt.plot(history.history['val_accuracy'])\n",
        "plt.title('model accuracy')\n",
        "plt.ylabel('accuracy')\n",
        "plt.xlabel('epoch')\n",
        "plt.legend(['train', 'test'], loc='upper left')\n",
        "plt.show()\n",
        "# summarize history for loss\n",
        "plt.plot(history.history['loss'])\n",
        "plt.plot(history.history['val_loss'])\n",
        "plt.title('model loss')\n",
        "plt.ylabel('loss')\n",
        "plt.xlabel('epoch')\n",
        "plt.legend(['train', 'test'], loc='upper left')\n",
        "plt.show()"
      ]
    },
    {
      "cell_type": "markdown",
      "source": [
        "AlexNet\n"
      ],
      "metadata": {
        "id": "TeG479lYAPpl"
      },
      "id": "TeG479lYAPpl"
    },
    {
      "cell_type": "code",
      "source": [
        "input_shape = (32, 32, 3) #Cifar10 image size\n",
        "image_size = 227 #size after resizing image\n",
        "num_classes = 10\n",
        "\n",
        "model2 = keras.models.Sequential([\n",
        "    keras.layers.Resizing(image_size, image_size, interpolation=\"bilinear\",input_shape=input_shape),\n",
        "    keras.layers.Conv2D(filters=96, kernel_size=(11,11), strides=(4,4), activation='relu'),\n",
        "    keras.layers.BatchNormalization(),\n",
        "    keras.layers.MaxPool2D(pool_size=(3,3), strides=(2,2)),\n",
        "    keras.layers.Conv2D(filters=256, kernel_size=(5,5), strides=(1,1), activation='relu', padding=\"same\"),\n",
        "    keras.layers.BatchNormalization(),\n",
        "    keras.layers.MaxPool2D(pool_size=(3,3), strides=(2,2)),\n",
        "    keras.layers.Conv2D(filters=384, kernel_size=(3,3), strides=(1,1), activation='relu', padding=\"same\"),\n",
        "    keras.layers.BatchNormalization(),\n",
        "    keras.layers.Conv2D(filters=384, kernel_size=(3,3), strides=(1,1), activation='relu', padding=\"same\"),\n",
        "    keras.layers.BatchNormalization(),\n",
        "    keras.layers.Conv2D(filters=256, kernel_size=(3,3), strides=(1,1), activation='relu', padding=\"same\"),\n",
        "    keras.layers.BatchNormalization(),\n",
        "    keras.layers.MaxPool2D(pool_size=(3,3), strides=(2,2)),\n",
        "    keras.layers.Flatten(),\n",
        "    keras.layers.Dense(4096, activation='relu'),\n",
        "    keras.layers.Dropout(0.5),\n",
        "    keras.layers.Dense(4096, activation='relu'),\n",
        "    keras.layers.Dropout(0.5),\n",
        "    keras.layers.Dense(10, activation='softmax')\n",
        "])"
      ],
      "metadata": {
        "id": "Cg0afhRuAOfT"
      },
      "id": "Cg0afhRuAOfT",
      "execution_count": 14,
      "outputs": []
    },
    {
      "cell_type": "code",
      "source": [
        "model2.compile(loss='categorical_crossentropy', optimizer=tf.optimizers.SGD(lr=0.001), metrics=['accuracy'])\n",
        "model2.summary()\n",
        "gc.collect()"
      ],
      "metadata": {
        "id": "BCi7SH0iBIAE",
        "colab": {
          "base_uri": "https://localhost:8080/"
        },
        "outputId": "ea5f9f9f-303c-4de9-841f-6d889cada3b4"
      },
      "id": "BCi7SH0iBIAE",
      "execution_count": 15,
      "outputs": [
        {
          "output_type": "stream",
          "name": "stderr",
          "text": [
            "WARNING:absl:`lr` is deprecated in Keras optimizer, please use `learning_rate` or use the legacy optimizer, e.g.,tf.keras.optimizers.legacy.SGD.\n"
          ]
        },
        {
          "output_type": "stream",
          "name": "stdout",
          "text": [
            "Model: \"sequential\"\n",
            "_________________________________________________________________\n",
            " Layer (type)                Output Shape              Param #   \n",
            "=================================================================\n",
            " resizing (Resizing)         (None, 227, 227, 3)       0         \n",
            "                                                                 \n",
            " conv2d (Conv2D)             (None, 55, 55, 96)        34944     \n",
            "                                                                 \n",
            " batch_normalization_2 (Batc  (None, 55, 55, 96)       384       \n",
            " hNormalization)                                                 \n",
            "                                                                 \n",
            " max_pooling2d (MaxPooling2D  (None, 27, 27, 96)       0         \n",
            " )                                                               \n",
            "                                                                 \n",
            " conv2d_1 (Conv2D)           (None, 27, 27, 256)       614656    \n",
            "                                                                 \n",
            " batch_normalization_3 (Batc  (None, 27, 27, 256)      1024      \n",
            " hNormalization)                                                 \n",
            "                                                                 \n",
            " max_pooling2d_1 (MaxPooling  (None, 13, 13, 256)      0         \n",
            " 2D)                                                             \n",
            "                                                                 \n",
            " conv2d_2 (Conv2D)           (None, 13, 13, 384)       885120    \n",
            "                                                                 \n",
            " batch_normalization_4 (Batc  (None, 13, 13, 384)      1536      \n",
            " hNormalization)                                                 \n",
            "                                                                 \n",
            " conv2d_3 (Conv2D)           (None, 13, 13, 384)       1327488   \n",
            "                                                                 \n",
            " batch_normalization_5 (Batc  (None, 13, 13, 384)      1536      \n",
            " hNormalization)                                                 \n",
            "                                                                 \n",
            " conv2d_4 (Conv2D)           (None, 13, 13, 256)       884992    \n",
            "                                                                 \n",
            " batch_normalization_6 (Batc  (None, 13, 13, 256)      1024      \n",
            " hNormalization)                                                 \n",
            "                                                                 \n",
            " max_pooling2d_2 (MaxPooling  (None, 6, 6, 256)        0         \n",
            " 2D)                                                             \n",
            "                                                                 \n",
            " flatten_1 (Flatten)         (None, 9216)              0         \n",
            "                                                                 \n",
            " dense_2 (Dense)             (None, 4096)              37752832  \n",
            "                                                                 \n",
            " dropout (Dropout)           (None, 4096)              0         \n",
            "                                                                 \n",
            " dense_3 (Dense)             (None, 4096)              16781312  \n",
            "                                                                 \n",
            " dropout_1 (Dropout)         (None, 4096)              0         \n",
            "                                                                 \n",
            " dense_4 (Dense)             (None, 10)                40970     \n",
            "                                                                 \n",
            "=================================================================\n",
            "Total params: 58,327,818\n",
            "Trainable params: 58,325,066\n",
            "Non-trainable params: 2,752\n",
            "_________________________________________________________________\n"
          ]
        },
        {
          "output_type": "execute_result",
          "data": {
            "text/plain": [
              "8443"
            ]
          },
          "metadata": {},
          "execution_count": 15
        }
      ]
    },
    {
      "cell_type": "code",
      "source": [
        "checkpoint_alex = ModelCheckpoint('/content/drive/MyDrive/Research/weights/alexnet.h5', \n",
        "    verbose=1, \n",
        "    monitor='val_loss',\n",
        "    save_best_only=True, \n",
        "    mode='auto'\n",
        ")  \n",
        "plateau = ReduceLROnPlateau(monitor=\"val_loss\", factor=0.7, patience=1, verbose=1)"
      ],
      "metadata": {
        "id": "4Qbwbc5nKNFt"
      },
      "id": "4Qbwbc5nKNFt",
      "execution_count": 16,
      "outputs": []
    },
    {
      "cell_type": "code",
      "execution_count": null,
      "id": "a2817aa6",
      "metadata": {
        "papermill": {
          "duration": 0.162462,
          "end_time": "2022-12-22T16:32:42.401848",
          "exception": false,
          "start_time": "2022-12-22T16:32:42.239386",
          "status": "completed"
        },
        "tags": [],
        "id": "a2817aa6",
        "colab": {
          "base_uri": "https://localhost:8080/"
        },
        "outputId": "32f57bcf-479c-40e2-8902-1371a0c67426"
      },
      "outputs": [
        {
          "output_type": "stream",
          "name": "stdout",
          "text": [
            "\n",
            "\n",
            "Epoch 1/30\n",
            "1172/1172 [==============================] - ETA: 0s - loss: 1.8543 - accuracy: 0.3881\n",
            "Epoch 1: val_loss improved from inf to 1.57219, saving model to /content/drive/MyDrive/Research/weights/alexnet.h5\n",
            "1172/1172 [==============================] - 72s 58ms/step - loss: 1.8543 - accuracy: 0.3881 - val_loss: 1.5722 - val_accuracy: 0.4271 - lr: 0.0100\n",
            "Epoch 2/30\n",
            "1172/1172 [==============================] - ETA: 0s - loss: 1.2967 - accuracy: 0.5366\n",
            "Epoch 2: val_loss improved from 1.57219 to 1.26431, saving model to /content/drive/MyDrive/Research/weights/alexnet.h5\n",
            "1172/1172 [==============================] - 61s 52ms/step - loss: 1.2967 - accuracy: 0.5366 - val_loss: 1.2643 - val_accuracy: 0.5472 - lr: 0.0100\n",
            "Epoch 3/30\n",
            "1171/1172 [============================>.] - ETA: 0s - loss: 1.0966 - accuracy: 0.6102\n",
            "Epoch 3: val_loss improved from 1.26431 to 1.06044, saving model to /content/drive/MyDrive/Research/weights/alexnet.h5\n",
            "1172/1172 [==============================] - 61s 52ms/step - loss: 1.0970 - accuracy: 0.6101 - val_loss: 1.0604 - val_accuracy: 0.6265 - lr: 0.0100\n",
            "Epoch 4/30\n",
            "1171/1172 [============================>.] - ETA: 0s - loss: 0.9530 - accuracy: 0.6608\n",
            "Epoch 4: val_loss improved from 1.06044 to 0.99840, saving model to /content/drive/MyDrive/Research/weights/alexnet.h5\n",
            "1172/1172 [==============================] - 61s 52ms/step - loss: 0.9528 - accuracy: 0.6609 - val_loss: 0.9984 - val_accuracy: 0.6457 - lr: 0.0100\n",
            "Epoch 5/30\n",
            "1172/1172 [==============================] - ETA: 0s - loss: 0.8308 - accuracy: 0.7071\n",
            "Epoch 5: val_loss improved from 0.99840 to 0.88544, saving model to /content/drive/MyDrive/Research/weights/alexnet.h5\n",
            "1172/1172 [==============================] - 70s 60ms/step - loss: 0.8308 - accuracy: 0.7071 - val_loss: 0.8854 - val_accuracy: 0.6862 - lr: 0.0100\n",
            "Epoch 6/30\n",
            "1172/1172 [==============================] - ETA: 0s - loss: 0.7393 - accuracy: 0.7399\n",
            "Epoch 6: ReduceLROnPlateau reducing learning rate to 0.006999999843537807.\n",
            "\n",
            "Epoch 6: val_loss did not improve from 0.88544\n",
            "1172/1172 [==============================] - 60s 51ms/step - loss: 0.7393 - accuracy: 0.7399 - val_loss: 0.9051 - val_accuracy: 0.6859 - lr: 0.0100\n",
            "Epoch 7/30\n",
            "1172/1172 [==============================] - ETA: 0s - loss: 0.6122 - accuracy: 0.7852\n",
            "Epoch 7: val_loss improved from 0.88544 to 0.76299, saving model to /content/drive/MyDrive/Research/weights/alexnet.h5\n",
            "1172/1172 [==============================] - 70s 60ms/step - loss: 0.6122 - accuracy: 0.7852 - val_loss: 0.7630 - val_accuracy: 0.7301 - lr: 0.0070\n",
            "Epoch 8/30\n",
            "1171/1172 [============================>.] - ETA: 0s - loss: 0.5428 - accuracy: 0.8093\n",
            "Epoch 8: val_loss improved from 0.76299 to 0.69952, saving model to /content/drive/MyDrive/Research/weights/alexnet.h5\n",
            "1172/1172 [==============================] - 70s 60ms/step - loss: 0.5427 - accuracy: 0.8093 - val_loss: 0.6995 - val_accuracy: 0.7573 - lr: 0.0070\n",
            "Epoch 9/30\n",
            "1172/1172 [==============================] - ETA: 0s - loss: 0.4903 - accuracy: 0.8280\n",
            "Epoch 9: val_loss improved from 0.69952 to 0.62430, saving model to /content/drive/MyDrive/Research/weights/alexnet.h5\n",
            "1172/1172 [==============================] - 66s 56ms/step - loss: 0.4903 - accuracy: 0.8280 - val_loss: 0.6243 - val_accuracy: 0.7851 - lr: 0.0070\n",
            "Epoch 10/30\n",
            "1172/1172 [==============================] - ETA: 0s - loss: 0.4398 - accuracy: 0.8447\n",
            "Epoch 10: ReduceLROnPlateau reducing learning rate to 0.004899999825283885.\n",
            "\n",
            "Epoch 10: val_loss did not improve from 0.62430\n",
            "1172/1172 [==============================] - 60s 51ms/step - loss: 0.4398 - accuracy: 0.8447 - val_loss: 0.7055 - val_accuracy: 0.7594 - lr: 0.0070\n",
            "Epoch 11/30\n",
            "1172/1172 [==============================] - ETA: 0s - loss: 0.3552 - accuracy: 0.8754\n",
            "Epoch 11: val_loss improved from 0.62430 to 0.60143, saving model to /content/drive/MyDrive/Research/weights/alexnet.h5\n",
            "1172/1172 [==============================] - 61s 52ms/step - loss: 0.3552 - accuracy: 0.8754 - val_loss: 0.6014 - val_accuracy: 0.7966 - lr: 0.0049\n",
            "Epoch 12/30\n",
            "1171/1172 [============================>.] - ETA: 0s - loss: 0.3151 - accuracy: 0.8899\n",
            "Epoch 12: val_loss improved from 0.60143 to 0.58831, saving model to /content/drive/MyDrive/Research/weights/alexnet.h5\n",
            "1172/1172 [==============================] - 71s 60ms/step - loss: 0.3153 - accuracy: 0.8899 - val_loss: 0.5883 - val_accuracy: 0.8016 - lr: 0.0049\n",
            "Epoch 13/30\n",
            "1171/1172 [============================>.] - ETA: 0s - loss: 0.2754 - accuracy: 0.9035\n",
            "Epoch 13: ReduceLROnPlateau reducing learning rate to 0.0034300000406801696.\n",
            "\n",
            "Epoch 13: val_loss did not improve from 0.58831\n",
            "1172/1172 [==============================] - 60s 51ms/step - loss: 0.2753 - accuracy: 0.9035 - val_loss: 0.5950 - val_accuracy: 0.8076 - lr: 0.0049\n",
            "Epoch 14/30\n",
            "   6/1172 [..............................] - ETA: 1:02 - loss: 0.1592 - accuracy: 0.9688"
          ]
        }
      ],
      "source": [
        "print(\"\\n\")\n",
        "datagen = ImageDataGenerator(rotation_range=15, width_shift_range=0.2, zoom_range=0.2, horizontal_flip=True)\n",
        "train_generator = datagen.flow(X_train, y_train, batch_size=batch_size)\n",
        "history = model2.fit(X_train,y_train,\n",
        "          batch_size=32,\n",
        "          epochs=30,\n",
        "          validation_data=(X_valid, y_valid),\n",
        "          callbacks = [plateau,checkpoint_alex]\n",
        "         )\n",
        "gc.collect()"
      ]
    },
    {
      "cell_type": "code",
      "source": [
        "results = model.evaluate(test_data,test_label, batch_size=32, verbose=1)\n",
        "print(\"test loss, test acc:\", results)"
      ],
      "metadata": {
        "id": "PHk3CtKxCFKV"
      },
      "id": "PHk3CtKxCFKV",
      "execution_count": null,
      "outputs": []
    },
    {
      "cell_type": "code",
      "source": [
        "results = model2.evaluate(test_data,test_label, batch_size=32, verbose=1)\n",
        "print(\"test loss, test acc:\", results)"
      ],
      "metadata": {
        "id": "yUL10kRsgkmp"
      },
      "id": "yUL10kRsgkmp",
      "execution_count": null,
      "outputs": []
    },
    {
      "cell_type": "code",
      "source": [
        "# summarize history for accuracy\n",
        "plt.plot(history.history['accuracy'])\n",
        "plt.plot(history.history['val_accuracy'])\n",
        "plt.title('model accuracy')\n",
        "plt.ylabel('accuracy')\n",
        "plt.xlabel('epoch')\n",
        "plt.legend(['train', 'test'], loc='upper left')\n",
        "plt.show()\n",
        "# summarize history for loss\n",
        "plt.plot(history.history['loss'])\n",
        "plt.plot(history.history['val_loss'])\n",
        "plt.title('model loss')\n",
        "plt.ylabel('loss')\n",
        "plt.xlabel('epoch')\n",
        "plt.legend(['train', 'test'], loc='upper left')\n",
        "plt.show()"
      ],
      "metadata": {
        "id": "eiHpY6qLCGto"
      },
      "id": "eiHpY6qLCGto",
      "execution_count": null,
      "outputs": []
    },
    {
      "cell_type": "code",
      "source": [],
      "metadata": {
        "id": "SyCkUljFf6qV"
      },
      "id": "SyCkUljFf6qV",
      "execution_count": null,
      "outputs": []
    }
  ],
  "metadata": {
    "kernelspec": {
      "display_name": "Python 3",
      "language": "python",
      "name": "python3"
    },
    "language_info": {
      "codemirror_mode": {
        "name": "ipython",
        "version": 3
      },
      "file_extension": ".py",
      "mimetype": "text/x-python",
      "name": "python",
      "nbconvert_exporter": "python",
      "pygments_lexer": "ipython3",
      "version": "3.7.12"
    },
    "papermill": {
      "default_parameters": {},
      "duration": 4193.357728,
      "end_time": "2022-12-22T16:32:46.279442",
      "environment_variables": {},
      "exception": null,
      "input_path": "__notebook__.ipynb",
      "output_path": "__notebook__.ipynb",
      "parameters": {},
      "start_time": "2022-12-22T15:22:52.921714",
      "version": "2.3.4"
    },
    "colab": {
      "provenance": [],
      "gpuType": "T4"
    },
    "gpuClass": "standard",
    "accelerator": "GPU"
  },
  "nbformat": 4,
  "nbformat_minor": 5
}